{
  "nbformat": 4,
  "nbformat_minor": 0,
  "metadata": {
    "colab": {
      "name": "dataset_HW4_EDSR.ipynb",
      "provenance": []
    },
    "kernelspec": {
      "name": "python3",
      "display_name": "Python 3"
    },
    "language_info": {
      "name": "python"
    }
  },
  "cells": [
    {
      "cell_type": "code",
      "execution_count": 1,
      "metadata": {
        "colab": {
          "base_uri": "https://localhost:8080/"
        },
        "id": "bWYeo58zhsmp",
        "outputId": "a1b4d145-f11b-44a6-afca-bb491e2e8a5d"
      },
      "outputs": [
        {
          "output_type": "stream",
          "name": "stdout",
          "text": [
            "Mounted at /content/drive\n"
          ]
        }
      ],
      "source": [
        "from google.colab import drive\n",
        "drive.mount('/content/drive')"
      ]
    },
    {
      "cell_type": "code",
      "source": [
        "import os\n",
        "\n",
        "dataset_path = '/content/drive/MyDrive/HW4_dataset'\n",
        "\n",
        "if not os.path.exists(dataset_path):\n",
        "  print('mkdir ' + dataset_path)\n",
        "  os.mkdir(dataset_path)"
      ],
      "metadata": {
        "colab": {
          "base_uri": "https://localhost:8080/"
        },
        "id": "JDuCeb-ANtCx",
        "outputId": "bb64a8af-f166-4484-95ad-875075059141"
      },
      "execution_count": 21,
      "outputs": [
        {
          "output_type": "stream",
          "name": "stdout",
          "text": [
            "mkdir /content/drive/MyDrive/HW4_dataset\n"
          ]
        }
      ]
    },
    {
      "cell_type": "markdown",
      "source": [
        "# download the dataset"
      ],
      "metadata": {
        "id": "38j52_G2OJvK"
      }
    },
    {
      "cell_type": "code",
      "source": [
        "from google_drive_downloader import GoogleDriveDownloader as gdd\n",
        "\n",
        "gdd.download_file_from_google_drive(file_id='1GL_Rh1N-WjrvF_-YOKOyvq0zrV6TF4hb',\n",
        "                                    dest_path='/content/drive/MyDrive/HW4_dataset/dataset.zip',\n",
        "                                    unzip=True)"
      ],
      "metadata": {
        "colab": {
          "base_uri": "https://localhost:8080/"
        },
        "id": "eBAre64KOIPR",
        "outputId": "5f0433f0-2e38-4175-8621-2d50268afd59"
      },
      "execution_count": 22,
      "outputs": [
        {
          "output_type": "stream",
          "name": "stdout",
          "text": [
            "Downloading 1GL_Rh1N-WjrvF_-YOKOyvq0zrV6TF4hb into /content/drive/MyDrive/HW4_dataset/dataset.zip... Done.\n",
            "Unzipping...Done.\n"
          ]
        }
      ]
    },
    {
      "cell_type": "code",
      "source": [
        "print('the number of training images',len(os.listdir('/content/drive/MyDrive/HW4_dataset/training_hr_images/training_hr_images')))\n",
        "print('the number of testing images',len(os.listdir('/content/drive/MyDrive/HW4_dataset/testing_lr_images/testing_lr_images')))"
      ],
      "metadata": {
        "colab": {
          "base_uri": "https://localhost:8080/"
        },
        "id": "vVLRYywiOdxH",
        "outputId": "aaf112a1-0a27-407b-8fea-9ba96570ec5c"
      },
      "execution_count": 23,
      "outputs": [
        {
          "output_type": "stream",
          "name": "stdout",
          "text": [
            "the number of training images 291\n",
            "the number of testing images 14\n"
          ]
        }
      ]
    },
    {
      "cell_type": "markdown",
      "source": [
        "# rename the file and resize the image to multiples of three\n",
        "\n",
        "For convenience\n"
      ],
      "metadata": {
        "id": "1dMC8DvKPEYb"
      }
    },
    {
      "cell_type": "code",
      "source": [
        "if not os.path.exists('/content/drive/MyDrive/HW4_dataset/new'):\n",
        "  print('mkdir ' + '/content/drive/MyDrive/HW4_dataset/new')\n",
        "  os.mkdir('/content/drive/MyDrive/HW4_dataset/new')\n",
        "\n",
        "if not os.path.exists('/content/drive/MyDrive/HW4_dataset/new/train_hr'):\n",
        "  print('mkdir ' + '/content/drive/MyDrive/HW4_dataset/new/train_hr')\n",
        "  os.mkdir('/content/drive/MyDrive/HW4_dataset/new/train_hr')\n",
        "\n",
        "if not os.path.exists('/content/drive/MyDrive/HW4_dataset/new/train_lr'):\n",
        "  print('mkdir ' + '/content/drive/MyDrive/HW4_dataset/new/train_lr')\n",
        "  os.mkdir('/content/drive/MyDrive/HW4_dataset/new/train_lr')"
      ],
      "metadata": {
        "colab": {
          "base_uri": "https://localhost:8080/"
        },
        "id": "DxfiH-LkQEWe",
        "outputId": "d9b5470b-63ee-44b0-f4fb-458071aaa066"
      },
      "execution_count": 24,
      "outputs": [
        {
          "output_type": "stream",
          "name": "stdout",
          "text": [
            "mkdir /content/drive/MyDrive/HW4_dataset/new\n",
            "mkdir /content/drive/MyDrive/HW4_dataset/new/train_hr\n",
            "mkdir /content/drive/MyDrive/HW4_dataset/new/train_lr\n"
          ]
        }
      ]
    },
    {
      "cell_type": "code",
      "source": [
        "import shutil \n",
        "import cv2\n",
        "old_train_dir = '/content/drive/MyDrive/HW4_dataset/training_hr_images/training_hr_images'\n",
        "index = 0\n",
        "for file_name in os.listdir(old_train_dir):\n",
        "\n",
        "  source = old_train_dir+'/'+file_name\n",
        "\n",
        "  image = cv2.imread(source)\n",
        "  ifResize = False\n",
        "  h = image.shape[0]\n",
        "  w = image.shape[1]\n",
        "\n",
        "  if h %3 !=0:\n",
        "    ifResize = True\n",
        "    h = 3*int(h/3)\n",
        "\n",
        "  if w %3 !=0:\n",
        "    ifResize = True\n",
        "    w = 3*int(w/3)\n",
        "\n",
        "  destination = '/content/drive/MyDrive/HW4_dataset/new/train_hr/'+str(index)+'.png'\n",
        "\n",
        "  if ifResize :\n",
        "    newimg = cv2.resize(image, (w, h), interpolation=cv2.INTER_LINEAR)\n",
        "    print('resize:',destination)\n",
        "    cv2.imwrite(destination, newimg)\n",
        "  else:\n",
        "    shutil.copy(source, destination)\n",
        "  index = index +1\n",
        "  "
      ],
      "metadata": {
        "colab": {
          "base_uri": "https://localhost:8080/"
        },
        "id": "L3L0YiqSPeqp",
        "outputId": "29383ca0-553a-41f2-a643-f77d6eff61db"
      },
      "execution_count": 26,
      "outputs": [
        {
          "output_type": "stream",
          "name": "stdout",
          "text": [
            "resize: /content/drive/MyDrive/HW4_dataset/new/train_hr/0.png\n",
            "resize: /content/drive/MyDrive/HW4_dataset/new/train_hr/1.png\n",
            "resize: /content/drive/MyDrive/HW4_dataset/new/train_hr/2.png\n",
            "resize: /content/drive/MyDrive/HW4_dataset/new/train_hr/3.png\n",
            "resize: /content/drive/MyDrive/HW4_dataset/new/train_hr/4.png\n",
            "resize: /content/drive/MyDrive/HW4_dataset/new/train_hr/5.png\n",
            "resize: /content/drive/MyDrive/HW4_dataset/new/train_hr/6.png\n",
            "resize: /content/drive/MyDrive/HW4_dataset/new/train_hr/7.png\n",
            "resize: /content/drive/MyDrive/HW4_dataset/new/train_hr/8.png\n",
            "resize: /content/drive/MyDrive/HW4_dataset/new/train_hr/9.png\n",
            "resize: /content/drive/MyDrive/HW4_dataset/new/train_hr/10.png\n",
            "resize: /content/drive/MyDrive/HW4_dataset/new/train_hr/11.png\n",
            "resize: /content/drive/MyDrive/HW4_dataset/new/train_hr/12.png\n",
            "resize: /content/drive/MyDrive/HW4_dataset/new/train_hr/13.png\n",
            "resize: /content/drive/MyDrive/HW4_dataset/new/train_hr/14.png\n",
            "resize: /content/drive/MyDrive/HW4_dataset/new/train_hr/15.png\n",
            "resize: /content/drive/MyDrive/HW4_dataset/new/train_hr/16.png\n",
            "resize: /content/drive/MyDrive/HW4_dataset/new/train_hr/17.png\n",
            "resize: /content/drive/MyDrive/HW4_dataset/new/train_hr/18.png\n",
            "resize: /content/drive/MyDrive/HW4_dataset/new/train_hr/19.png\n",
            "resize: /content/drive/MyDrive/HW4_dataset/new/train_hr/20.png\n",
            "resize: /content/drive/MyDrive/HW4_dataset/new/train_hr/21.png\n",
            "resize: /content/drive/MyDrive/HW4_dataset/new/train_hr/22.png\n",
            "resize: /content/drive/MyDrive/HW4_dataset/new/train_hr/23.png\n",
            "resize: /content/drive/MyDrive/HW4_dataset/new/train_hr/24.png\n",
            "resize: /content/drive/MyDrive/HW4_dataset/new/train_hr/25.png\n",
            "resize: /content/drive/MyDrive/HW4_dataset/new/train_hr/26.png\n",
            "resize: /content/drive/MyDrive/HW4_dataset/new/train_hr/27.png\n",
            "resize: /content/drive/MyDrive/HW4_dataset/new/train_hr/28.png\n",
            "resize: /content/drive/MyDrive/HW4_dataset/new/train_hr/29.png\n",
            "resize: /content/drive/MyDrive/HW4_dataset/new/train_hr/30.png\n",
            "resize: /content/drive/MyDrive/HW4_dataset/new/train_hr/31.png\n",
            "resize: /content/drive/MyDrive/HW4_dataset/new/train_hr/32.png\n",
            "resize: /content/drive/MyDrive/HW4_dataset/new/train_hr/33.png\n",
            "resize: /content/drive/MyDrive/HW4_dataset/new/train_hr/34.png\n",
            "resize: /content/drive/MyDrive/HW4_dataset/new/train_hr/35.png\n",
            "resize: /content/drive/MyDrive/HW4_dataset/new/train_hr/36.png\n",
            "resize: /content/drive/MyDrive/HW4_dataset/new/train_hr/37.png\n",
            "resize: /content/drive/MyDrive/HW4_dataset/new/train_hr/38.png\n",
            "resize: /content/drive/MyDrive/HW4_dataset/new/train_hr/39.png\n",
            "resize: /content/drive/MyDrive/HW4_dataset/new/train_hr/40.png\n",
            "resize: /content/drive/MyDrive/HW4_dataset/new/train_hr/41.png\n",
            "resize: /content/drive/MyDrive/HW4_dataset/new/train_hr/42.png\n",
            "resize: /content/drive/MyDrive/HW4_dataset/new/train_hr/43.png\n",
            "resize: /content/drive/MyDrive/HW4_dataset/new/train_hr/44.png\n",
            "resize: /content/drive/MyDrive/HW4_dataset/new/train_hr/45.png\n",
            "resize: /content/drive/MyDrive/HW4_dataset/new/train_hr/46.png\n",
            "resize: /content/drive/MyDrive/HW4_dataset/new/train_hr/47.png\n",
            "resize: /content/drive/MyDrive/HW4_dataset/new/train_hr/48.png\n",
            "resize: /content/drive/MyDrive/HW4_dataset/new/train_hr/49.png\n",
            "resize: /content/drive/MyDrive/HW4_dataset/new/train_hr/50.png\n",
            "resize: /content/drive/MyDrive/HW4_dataset/new/train_hr/51.png\n",
            "resize: /content/drive/MyDrive/HW4_dataset/new/train_hr/52.png\n",
            "resize: /content/drive/MyDrive/HW4_dataset/new/train_hr/53.png\n",
            "resize: /content/drive/MyDrive/HW4_dataset/new/train_hr/54.png\n",
            "resize: /content/drive/MyDrive/HW4_dataset/new/train_hr/55.png\n",
            "resize: /content/drive/MyDrive/HW4_dataset/new/train_hr/56.png\n",
            "resize: /content/drive/MyDrive/HW4_dataset/new/train_hr/57.png\n",
            "resize: /content/drive/MyDrive/HW4_dataset/new/train_hr/58.png\n",
            "resize: /content/drive/MyDrive/HW4_dataset/new/train_hr/59.png\n",
            "resize: /content/drive/MyDrive/HW4_dataset/new/train_hr/60.png\n",
            "resize: /content/drive/MyDrive/HW4_dataset/new/train_hr/61.png\n",
            "resize: /content/drive/MyDrive/HW4_dataset/new/train_hr/62.png\n",
            "resize: /content/drive/MyDrive/HW4_dataset/new/train_hr/63.png\n",
            "resize: /content/drive/MyDrive/HW4_dataset/new/train_hr/64.png\n",
            "resize: /content/drive/MyDrive/HW4_dataset/new/train_hr/65.png\n",
            "resize: /content/drive/MyDrive/HW4_dataset/new/train_hr/66.png\n",
            "resize: /content/drive/MyDrive/HW4_dataset/new/train_hr/67.png\n",
            "resize: /content/drive/MyDrive/HW4_dataset/new/train_hr/68.png\n",
            "resize: /content/drive/MyDrive/HW4_dataset/new/train_hr/69.png\n",
            "resize: /content/drive/MyDrive/HW4_dataset/new/train_hr/70.png\n",
            "resize: /content/drive/MyDrive/HW4_dataset/new/train_hr/71.png\n",
            "resize: /content/drive/MyDrive/HW4_dataset/new/train_hr/72.png\n",
            "resize: /content/drive/MyDrive/HW4_dataset/new/train_hr/73.png\n",
            "resize: /content/drive/MyDrive/HW4_dataset/new/train_hr/74.png\n",
            "resize: /content/drive/MyDrive/HW4_dataset/new/train_hr/75.png\n",
            "resize: /content/drive/MyDrive/HW4_dataset/new/train_hr/76.png\n",
            "resize: /content/drive/MyDrive/HW4_dataset/new/train_hr/77.png\n",
            "resize: /content/drive/MyDrive/HW4_dataset/new/train_hr/78.png\n",
            "resize: /content/drive/MyDrive/HW4_dataset/new/train_hr/79.png\n",
            "resize: /content/drive/MyDrive/HW4_dataset/new/train_hr/80.png\n",
            "resize: /content/drive/MyDrive/HW4_dataset/new/train_hr/81.png\n",
            "resize: /content/drive/MyDrive/HW4_dataset/new/train_hr/82.png\n",
            "resize: /content/drive/MyDrive/HW4_dataset/new/train_hr/83.png\n",
            "resize: /content/drive/MyDrive/HW4_dataset/new/train_hr/84.png\n",
            "resize: /content/drive/MyDrive/HW4_dataset/new/train_hr/85.png\n",
            "resize: /content/drive/MyDrive/HW4_dataset/new/train_hr/86.png\n",
            "resize: /content/drive/MyDrive/HW4_dataset/new/train_hr/87.png\n",
            "resize: /content/drive/MyDrive/HW4_dataset/new/train_hr/88.png\n",
            "resize: /content/drive/MyDrive/HW4_dataset/new/train_hr/89.png\n",
            "resize: /content/drive/MyDrive/HW4_dataset/new/train_hr/90.png\n",
            "resize: /content/drive/MyDrive/HW4_dataset/new/train_hr/91.png\n",
            "resize: /content/drive/MyDrive/HW4_dataset/new/train_hr/92.png\n",
            "resize: /content/drive/MyDrive/HW4_dataset/new/train_hr/93.png\n",
            "resize: /content/drive/MyDrive/HW4_dataset/new/train_hr/94.png\n",
            "resize: /content/drive/MyDrive/HW4_dataset/new/train_hr/95.png\n",
            "resize: /content/drive/MyDrive/HW4_dataset/new/train_hr/96.png\n",
            "resize: /content/drive/MyDrive/HW4_dataset/new/train_hr/97.png\n",
            "resize: /content/drive/MyDrive/HW4_dataset/new/train_hr/98.png\n",
            "resize: /content/drive/MyDrive/HW4_dataset/new/train_hr/99.png\n",
            "resize: /content/drive/MyDrive/HW4_dataset/new/train_hr/100.png\n",
            "resize: /content/drive/MyDrive/HW4_dataset/new/train_hr/101.png\n",
            "resize: /content/drive/MyDrive/HW4_dataset/new/train_hr/102.png\n",
            "resize: /content/drive/MyDrive/HW4_dataset/new/train_hr/103.png\n",
            "resize: /content/drive/MyDrive/HW4_dataset/new/train_hr/104.png\n",
            "resize: /content/drive/MyDrive/HW4_dataset/new/train_hr/105.png\n",
            "resize: /content/drive/MyDrive/HW4_dataset/new/train_hr/106.png\n",
            "resize: /content/drive/MyDrive/HW4_dataset/new/train_hr/107.png\n",
            "resize: /content/drive/MyDrive/HW4_dataset/new/train_hr/108.png\n",
            "resize: /content/drive/MyDrive/HW4_dataset/new/train_hr/109.png\n",
            "resize: /content/drive/MyDrive/HW4_dataset/new/train_hr/110.png\n",
            "resize: /content/drive/MyDrive/HW4_dataset/new/train_hr/111.png\n",
            "resize: /content/drive/MyDrive/HW4_dataset/new/train_hr/112.png\n",
            "resize: /content/drive/MyDrive/HW4_dataset/new/train_hr/113.png\n",
            "resize: /content/drive/MyDrive/HW4_dataset/new/train_hr/114.png\n",
            "resize: /content/drive/MyDrive/HW4_dataset/new/train_hr/115.png\n",
            "resize: /content/drive/MyDrive/HW4_dataset/new/train_hr/116.png\n",
            "resize: /content/drive/MyDrive/HW4_dataset/new/train_hr/117.png\n",
            "resize: /content/drive/MyDrive/HW4_dataset/new/train_hr/118.png\n",
            "resize: /content/drive/MyDrive/HW4_dataset/new/train_hr/119.png\n",
            "resize: /content/drive/MyDrive/HW4_dataset/new/train_hr/120.png\n",
            "resize: /content/drive/MyDrive/HW4_dataset/new/train_hr/121.png\n",
            "resize: /content/drive/MyDrive/HW4_dataset/new/train_hr/122.png\n",
            "resize: /content/drive/MyDrive/HW4_dataset/new/train_hr/123.png\n",
            "resize: /content/drive/MyDrive/HW4_dataset/new/train_hr/124.png\n",
            "resize: /content/drive/MyDrive/HW4_dataset/new/train_hr/125.png\n",
            "resize: /content/drive/MyDrive/HW4_dataset/new/train_hr/126.png\n",
            "resize: /content/drive/MyDrive/HW4_dataset/new/train_hr/127.png\n",
            "resize: /content/drive/MyDrive/HW4_dataset/new/train_hr/128.png\n",
            "resize: /content/drive/MyDrive/HW4_dataset/new/train_hr/129.png\n",
            "resize: /content/drive/MyDrive/HW4_dataset/new/train_hr/130.png\n",
            "resize: /content/drive/MyDrive/HW4_dataset/new/train_hr/131.png\n",
            "resize: /content/drive/MyDrive/HW4_dataset/new/train_hr/132.png\n",
            "resize: /content/drive/MyDrive/HW4_dataset/new/train_hr/133.png\n",
            "resize: /content/drive/MyDrive/HW4_dataset/new/train_hr/134.png\n",
            "resize: /content/drive/MyDrive/HW4_dataset/new/train_hr/135.png\n",
            "resize: /content/drive/MyDrive/HW4_dataset/new/train_hr/136.png\n",
            "resize: /content/drive/MyDrive/HW4_dataset/new/train_hr/137.png\n",
            "resize: /content/drive/MyDrive/HW4_dataset/new/train_hr/138.png\n",
            "resize: /content/drive/MyDrive/HW4_dataset/new/train_hr/139.png\n",
            "resize: /content/drive/MyDrive/HW4_dataset/new/train_hr/140.png\n",
            "resize: /content/drive/MyDrive/HW4_dataset/new/train_hr/141.png\n",
            "resize: /content/drive/MyDrive/HW4_dataset/new/train_hr/142.png\n",
            "resize: /content/drive/MyDrive/HW4_dataset/new/train_hr/143.png\n",
            "resize: /content/drive/MyDrive/HW4_dataset/new/train_hr/144.png\n",
            "resize: /content/drive/MyDrive/HW4_dataset/new/train_hr/145.png\n",
            "resize: /content/drive/MyDrive/HW4_dataset/new/train_hr/146.png\n",
            "resize: /content/drive/MyDrive/HW4_dataset/new/train_hr/147.png\n",
            "resize: /content/drive/MyDrive/HW4_dataset/new/train_hr/148.png\n",
            "resize: /content/drive/MyDrive/HW4_dataset/new/train_hr/149.png\n",
            "resize: /content/drive/MyDrive/HW4_dataset/new/train_hr/150.png\n",
            "resize: /content/drive/MyDrive/HW4_dataset/new/train_hr/151.png\n",
            "resize: /content/drive/MyDrive/HW4_dataset/new/train_hr/152.png\n",
            "resize: /content/drive/MyDrive/HW4_dataset/new/train_hr/153.png\n",
            "resize: /content/drive/MyDrive/HW4_dataset/new/train_hr/154.png\n",
            "resize: /content/drive/MyDrive/HW4_dataset/new/train_hr/155.png\n",
            "resize: /content/drive/MyDrive/HW4_dataset/new/train_hr/156.png\n",
            "resize: /content/drive/MyDrive/HW4_dataset/new/train_hr/157.png\n",
            "resize: /content/drive/MyDrive/HW4_dataset/new/train_hr/158.png\n",
            "resize: /content/drive/MyDrive/HW4_dataset/new/train_hr/159.png\n",
            "resize: /content/drive/MyDrive/HW4_dataset/new/train_hr/160.png\n",
            "resize: /content/drive/MyDrive/HW4_dataset/new/train_hr/161.png\n",
            "resize: /content/drive/MyDrive/HW4_dataset/new/train_hr/162.png\n",
            "resize: /content/drive/MyDrive/HW4_dataset/new/train_hr/163.png\n",
            "resize: /content/drive/MyDrive/HW4_dataset/new/train_hr/164.png\n",
            "resize: /content/drive/MyDrive/HW4_dataset/new/train_hr/165.png\n",
            "resize: /content/drive/MyDrive/HW4_dataset/new/train_hr/166.png\n",
            "resize: /content/drive/MyDrive/HW4_dataset/new/train_hr/167.png\n",
            "resize: /content/drive/MyDrive/HW4_dataset/new/train_hr/168.png\n",
            "resize: /content/drive/MyDrive/HW4_dataset/new/train_hr/169.png\n",
            "resize: /content/drive/MyDrive/HW4_dataset/new/train_hr/170.png\n",
            "resize: /content/drive/MyDrive/HW4_dataset/new/train_hr/171.png\n",
            "resize: /content/drive/MyDrive/HW4_dataset/new/train_hr/172.png\n",
            "resize: /content/drive/MyDrive/HW4_dataset/new/train_hr/173.png\n",
            "resize: /content/drive/MyDrive/HW4_dataset/new/train_hr/174.png\n",
            "resize: /content/drive/MyDrive/HW4_dataset/new/train_hr/175.png\n",
            "resize: /content/drive/MyDrive/HW4_dataset/new/train_hr/176.png\n",
            "resize: /content/drive/MyDrive/HW4_dataset/new/train_hr/177.png\n",
            "resize: /content/drive/MyDrive/HW4_dataset/new/train_hr/178.png\n",
            "resize: /content/drive/MyDrive/HW4_dataset/new/train_hr/179.png\n",
            "resize: /content/drive/MyDrive/HW4_dataset/new/train_hr/180.png\n",
            "resize: /content/drive/MyDrive/HW4_dataset/new/train_hr/181.png\n",
            "resize: /content/drive/MyDrive/HW4_dataset/new/train_hr/182.png\n",
            "resize: /content/drive/MyDrive/HW4_dataset/new/train_hr/183.png\n",
            "resize: /content/drive/MyDrive/HW4_dataset/new/train_hr/184.png\n",
            "resize: /content/drive/MyDrive/HW4_dataset/new/train_hr/185.png\n",
            "resize: /content/drive/MyDrive/HW4_dataset/new/train_hr/186.png\n",
            "resize: /content/drive/MyDrive/HW4_dataset/new/train_hr/187.png\n",
            "resize: /content/drive/MyDrive/HW4_dataset/new/train_hr/188.png\n",
            "resize: /content/drive/MyDrive/HW4_dataset/new/train_hr/189.png\n",
            "resize: /content/drive/MyDrive/HW4_dataset/new/train_hr/190.png\n",
            "resize: /content/drive/MyDrive/HW4_dataset/new/train_hr/191.png\n",
            "resize: /content/drive/MyDrive/HW4_dataset/new/train_hr/192.png\n",
            "resize: /content/drive/MyDrive/HW4_dataset/new/train_hr/193.png\n",
            "resize: /content/drive/MyDrive/HW4_dataset/new/train_hr/194.png\n",
            "resize: /content/drive/MyDrive/HW4_dataset/new/train_hr/195.png\n",
            "resize: /content/drive/MyDrive/HW4_dataset/new/train_hr/196.png\n",
            "resize: /content/drive/MyDrive/HW4_dataset/new/train_hr/197.png\n",
            "resize: /content/drive/MyDrive/HW4_dataset/new/train_hr/198.png\n",
            "resize: /content/drive/MyDrive/HW4_dataset/new/train_hr/199.png\n",
            "resize: /content/drive/MyDrive/HW4_dataset/new/train_hr/200.png\n",
            "resize: /content/drive/MyDrive/HW4_dataset/new/train_hr/201.png\n",
            "resize: /content/drive/MyDrive/HW4_dataset/new/train_hr/202.png\n",
            "resize: /content/drive/MyDrive/HW4_dataset/new/train_hr/203.png\n",
            "resize: /content/drive/MyDrive/HW4_dataset/new/train_hr/204.png\n",
            "resize: /content/drive/MyDrive/HW4_dataset/new/train_hr/205.png\n",
            "resize: /content/drive/MyDrive/HW4_dataset/new/train_hr/206.png\n",
            "resize: /content/drive/MyDrive/HW4_dataset/new/train_hr/207.png\n",
            "resize: /content/drive/MyDrive/HW4_dataset/new/train_hr/208.png\n",
            "resize: /content/drive/MyDrive/HW4_dataset/new/train_hr/209.png\n",
            "resize: /content/drive/MyDrive/HW4_dataset/new/train_hr/210.png\n",
            "resize: /content/drive/MyDrive/HW4_dataset/new/train_hr/211.png\n",
            "resize: /content/drive/MyDrive/HW4_dataset/new/train_hr/215.png\n",
            "resize: /content/drive/MyDrive/HW4_dataset/new/train_hr/216.png\n",
            "resize: /content/drive/MyDrive/HW4_dataset/new/train_hr/218.png\n",
            "resize: /content/drive/MyDrive/HW4_dataset/new/train_hr/219.png\n",
            "resize: /content/drive/MyDrive/HW4_dataset/new/train_hr/220.png\n",
            "resize: /content/drive/MyDrive/HW4_dataset/new/train_hr/221.png\n",
            "resize: /content/drive/MyDrive/HW4_dataset/new/train_hr/222.png\n",
            "resize: /content/drive/MyDrive/HW4_dataset/new/train_hr/223.png\n",
            "resize: /content/drive/MyDrive/HW4_dataset/new/train_hr/224.png\n",
            "resize: /content/drive/MyDrive/HW4_dataset/new/train_hr/225.png\n",
            "resize: /content/drive/MyDrive/HW4_dataset/new/train_hr/226.png\n",
            "resize: /content/drive/MyDrive/HW4_dataset/new/train_hr/227.png\n",
            "resize: /content/drive/MyDrive/HW4_dataset/new/train_hr/228.png\n",
            "resize: /content/drive/MyDrive/HW4_dataset/new/train_hr/229.png\n",
            "resize: /content/drive/MyDrive/HW4_dataset/new/train_hr/230.png\n",
            "resize: /content/drive/MyDrive/HW4_dataset/new/train_hr/231.png\n",
            "resize: /content/drive/MyDrive/HW4_dataset/new/train_hr/232.png\n",
            "resize: /content/drive/MyDrive/HW4_dataset/new/train_hr/233.png\n",
            "resize: /content/drive/MyDrive/HW4_dataset/new/train_hr/234.png\n",
            "resize: /content/drive/MyDrive/HW4_dataset/new/train_hr/235.png\n",
            "resize: /content/drive/MyDrive/HW4_dataset/new/train_hr/236.png\n",
            "resize: /content/drive/MyDrive/HW4_dataset/new/train_hr/237.png\n",
            "resize: /content/drive/MyDrive/HW4_dataset/new/train_hr/238.png\n",
            "resize: /content/drive/MyDrive/HW4_dataset/new/train_hr/239.png\n",
            "resize: /content/drive/MyDrive/HW4_dataset/new/train_hr/240.png\n",
            "resize: /content/drive/MyDrive/HW4_dataset/new/train_hr/241.png\n",
            "resize: /content/drive/MyDrive/HW4_dataset/new/train_hr/242.png\n",
            "resize: /content/drive/MyDrive/HW4_dataset/new/train_hr/243.png\n",
            "resize: /content/drive/MyDrive/HW4_dataset/new/train_hr/244.png\n",
            "resize: /content/drive/MyDrive/HW4_dataset/new/train_hr/245.png\n",
            "resize: /content/drive/MyDrive/HW4_dataset/new/train_hr/247.png\n",
            "resize: /content/drive/MyDrive/HW4_dataset/new/train_hr/248.png\n",
            "resize: /content/drive/MyDrive/HW4_dataset/new/train_hr/250.png\n",
            "resize: /content/drive/MyDrive/HW4_dataset/new/train_hr/251.png\n",
            "resize: /content/drive/MyDrive/HW4_dataset/new/train_hr/252.png\n",
            "resize: /content/drive/MyDrive/HW4_dataset/new/train_hr/253.png\n",
            "resize: /content/drive/MyDrive/HW4_dataset/new/train_hr/254.png\n",
            "resize: /content/drive/MyDrive/HW4_dataset/new/train_hr/255.png\n",
            "resize: /content/drive/MyDrive/HW4_dataset/new/train_hr/256.png\n",
            "resize: /content/drive/MyDrive/HW4_dataset/new/train_hr/257.png\n",
            "resize: /content/drive/MyDrive/HW4_dataset/new/train_hr/258.png\n",
            "resize: /content/drive/MyDrive/HW4_dataset/new/train_hr/259.png\n",
            "resize: /content/drive/MyDrive/HW4_dataset/new/train_hr/260.png\n",
            "resize: /content/drive/MyDrive/HW4_dataset/new/train_hr/261.png\n",
            "resize: /content/drive/MyDrive/HW4_dataset/new/train_hr/262.png\n",
            "resize: /content/drive/MyDrive/HW4_dataset/new/train_hr/263.png\n",
            "resize: /content/drive/MyDrive/HW4_dataset/new/train_hr/264.png\n",
            "resize: /content/drive/MyDrive/HW4_dataset/new/train_hr/265.png\n",
            "resize: /content/drive/MyDrive/HW4_dataset/new/train_hr/267.png\n",
            "resize: /content/drive/MyDrive/HW4_dataset/new/train_hr/268.png\n",
            "resize: /content/drive/MyDrive/HW4_dataset/new/train_hr/269.png\n",
            "resize: /content/drive/MyDrive/HW4_dataset/new/train_hr/270.png\n",
            "resize: /content/drive/MyDrive/HW4_dataset/new/train_hr/271.png\n",
            "resize: /content/drive/MyDrive/HW4_dataset/new/train_hr/273.png\n",
            "resize: /content/drive/MyDrive/HW4_dataset/new/train_hr/274.png\n",
            "resize: /content/drive/MyDrive/HW4_dataset/new/train_hr/275.png\n",
            "resize: /content/drive/MyDrive/HW4_dataset/new/train_hr/276.png\n",
            "resize: /content/drive/MyDrive/HW4_dataset/new/train_hr/277.png\n",
            "resize: /content/drive/MyDrive/HW4_dataset/new/train_hr/278.png\n",
            "resize: /content/drive/MyDrive/HW4_dataset/new/train_hr/279.png\n",
            "resize: /content/drive/MyDrive/HW4_dataset/new/train_hr/280.png\n",
            "resize: /content/drive/MyDrive/HW4_dataset/new/train_hr/281.png\n",
            "resize: /content/drive/MyDrive/HW4_dataset/new/train_hr/282.png\n",
            "resize: /content/drive/MyDrive/HW4_dataset/new/train_hr/283.png\n",
            "resize: /content/drive/MyDrive/HW4_dataset/new/train_hr/285.png\n",
            "resize: /content/drive/MyDrive/HW4_dataset/new/train_hr/286.png\n",
            "resize: /content/drive/MyDrive/HW4_dataset/new/train_hr/288.png\n",
            "resize: /content/drive/MyDrive/HW4_dataset/new/train_hr/289.png\n",
            "resize: /content/drive/MyDrive/HW4_dataset/new/train_hr/290.png\n"
          ]
        }
      ]
    },
    {
      "cell_type": "code",
      "source": [
        "print('the number of new training images',len(os.listdir('/content/drive/MyDrive/HW4_dataset/new/train_hr')))"
      ],
      "metadata": {
        "colab": {
          "base_uri": "https://localhost:8080/"
        },
        "id": "rS8jkQfyUd73",
        "outputId": "9cd50580-5fdd-4730-da19-67f81f2cc1db"
      },
      "execution_count": 27,
      "outputs": [
        {
          "output_type": "stream",
          "name": "stdout",
          "text": [
            "the number of new training images 291\n"
          ]
        }
      ]
    },
    {
      "cell_type": "markdown",
      "source": [
        "# produce the lr image\n",
        "\n",
        "scale: 3"
      ],
      "metadata": {
        "id": "S-MZ41w4avDS"
      }
    },
    {
      "cell_type": "code",
      "source": [
        "train_dir = '/content/drive/MyDrive/HW4_dataset/new/train_hr'\n",
        "for file_name in os.listdir(train_dir):\n",
        "  source = train_dir+'/'+file_name\n",
        "  image = cv2.imread(source)\n",
        "\n",
        "  h = int(image.shape[0]/3)\n",
        "  w = int(image.shape[1]/3)\n",
        "\n",
        "  destination = '/content/drive/MyDrive/HW4_dataset/new/train_lr/'+file_name\n",
        "\n",
        "  newimg = cv2.resize(image, (w, h), interpolation=cv2.INTER_LINEAR)\n",
        "  cv2.imwrite(destination, newimg)"
      ],
      "metadata": {
        "id": "Utdh4qbTazZY"
      },
      "execution_count": 31,
      "outputs": []
    },
    {
      "cell_type": "code",
      "source": [
        "train_dir = '/content/drive/MyDrive/HW4_dataset/new/train_lr'\n",
        "for file_name in os.listdir(train_dir):\n",
        "  source = train_dir+'/'+file_name\n",
        "  image = cv2.imread(source)\n",
        "\n",
        "  h = image.shape[0]\n",
        "  w = image.shape[1]\n",
        "  if h <=32 or w<=32:\n",
        "    print(file_name,h,w)"
      ],
      "metadata": {
        "colab": {
          "base_uri": "https://localhost:8080/"
        },
        "id": "rxVsCEA1dSLc",
        "outputId": "1ddc6356-6930-4eaa-d01b-552ffe4f6a97"
      },
      "execution_count": 40,
      "outputs": [
        {
          "output_type": "stream",
          "name": "stdout",
          "text": [
            "212.png 26 26\n"
          ]
        }
      ]
    }
  ]
}